{
 "cells": [
  {
   "cell_type": "markdown",
   "id": "3a61b1e1",
   "metadata": {},
   "source": [
    "# Quantum Circuits to Generate the Collapses"
   ]
  },
  {
   "cell_type": "markdown",
   "id": "fbce6b65",
   "metadata": {},
   "source": [
    "To generate the collapses of the overlapping blocks, we will generate three types of circuits that represent the possibilities of the blocks as they have been splited.\n",
    "\n",
    "The tiles can be separated into up to 4 sub-pieces, in the following combinations:\n",
    "\n",
    "- 50% , 50%\n",
    "- 50% , 25% , 25%\n",
    "- 25% , 25% , 25% , 25%\n",
    "\n",
    "That order will be maintained in the sub-piece list so that they can always refer to the same probabilities all the time.\n",
    "\n",
    "That is, the possible lists to indicate the superposed blocks will be:\n",
    "\n",
    "- 2 blocks:\n",
    "  - `[ block_50 , None     , None     , block_50 ]`\n",
    "- 3 blocks:\n",
    "  - `[ block_50 , block_25 , None     , block_25 ]`\n",
    "  - `[ block_25 , None     , block_25 , block_50 ]`\n",
    "- 4 blocks\n",
    "  - `[ block_25 , block_25 , block_25 , block_25 ]`\n",
    "\n",
    "The order to consider the result will be:\n",
    "\n",
    "$$\\big[ \\, |00\\rangle , |01\\rangle , |10\\rangle , |11\\rangle \\, \\big]$$\n",
    "\n",
    "Then for example, if the simulation gives us state $|01\\rangle$, then the block in position `1` will be the one that prevails so it will be the one that remains after the collapse."
   ]
  },
  {
   "cell_type": "code",
   "execution_count": 1,
   "id": "0dac4bca",
   "metadata": {},
   "outputs": [],
   "source": [
    "from qiskit import QuantumRegister, ClassicalRegister, QuantumCircuit, execute, Aer"
   ]
  },
  {
   "cell_type": "markdown",
   "id": "fdd32dcf",
   "metadata": {},
   "source": [
    "## Circuit for two blocks: 50% - 50%"
   ]
  },
  {
   "cell_type": "code",
   "execution_count": 2,
   "id": "85f69d7c",
   "metadata": {},
   "outputs": [
    {
     "name": "stdout",
     "output_type": "stream",
     "text": [
      "00\n"
     ]
    },
    {
     "data": {
      "image/png": "[encoded data removed]",
      "text/plain": [
       "<Figure size 340.233x204.68 with 1 Axes>"
      ]
     },
     "metadata": {},
     "output_type": "display_data"
    },
    {
     "name": "stdout",
     "output_type": "stream",
     "text": [
      "{'00': 491, '11': 509}\n"
     ]
    }
   ],
   "source": [
    "q = QuantumRegister(2)\n",
    "c = ClassicalRegister(2)\n",
    "qc = QuantumCircuit(q, c)\n",
    "\n",
    "# create a Bell state\n",
    "qc.h(0)\n",
    "qc.cx(0,1)\n",
    "\n",
    "qc.measure(q, c)\n",
    "\n",
    "result_state = list(execute(qc,Aer.get_backend('qasm_simulator'), shots=1).result().get_counts(qc).keys())[0]\n",
    "\n",
    "# for display purposes of this notebook\n",
    "print(result_state)\n",
    "display(qc.draw('mpl'))\n",
    "job = execute(qc,Aer.get_backend('qasm_simulator'), shots=1000)\n",
    "counts = job.result().get_counts(qc)   \n",
    "print(counts)\n",
    "# end for display purposes of this notebook"
   ]
  },
  {
   "cell_type": "markdown",
   "id": "76c19721",
   "metadata": {},
   "source": [
    "## Circuit for three blocks: 50% - 25% - 25%"
   ]
  },
  {
   "cell_type": "markdown",
   "id": "83a3e1aa",
   "metadata": {},
   "source": [
    "### `[ block_50 , block_25 , None , block_25 ]`"
   ]
  },
  {
   "cell_type": "code",
   "execution_count": 3,
   "id": "08dabcb7",
   "metadata": {},
   "outputs": [
    {
     "name": "stdout",
     "output_type": "stream",
     "text": [
      "01\n"
     ]
    },
    {
     "data": {
      "image/png": "[encoded data removed]",
      "text/plain": [
       "<Figure size 413.995x204.68 with 1 Axes>"
      ]
     },
     "metadata": {},
     "output_type": "display_data"
    },
    {
     "name": "stdout",
     "output_type": "stream",
     "text": [
      "{'00': 495, '11': 254, '01': 251}\n"
     ]
    }
   ],
   "source": [
    "q = QuantumRegister(2)\n",
    "c = ClassicalRegister(2)\n",
    "qc = QuantumCircuit(q, c)\n",
    "\n",
    "# apply first Hadamard\n",
    "qc.h(0)\n",
    "qc.measure(q, c)\n",
    "\n",
    "# apply second Hadamard if the measurement outcome is 0\n",
    "qc.h(1).c_if(c, 1)\n",
    "qc.measure(q, c)\n",
    "\n",
    "result_state = list(execute(qc,Aer.get_backend('qasm_simulator'), shots=1).result().get_counts(qc).keys())[0]\n",
    "\n",
    "# for display purposes of this notebook\n",
    "print(result_state)\n",
    "display(qc.draw('mpl'))\n",
    "job = execute(qc,Aer.get_backend('qasm_simulator'), shots=1000)\n",
    "counts = job.result().get_counts(qc)   \n",
    "print(counts)\n",
    "# end for display purposes of this notebook"
   ]
  },
  {
   "cell_type": "markdown",
   "id": "300a0d17",
   "metadata": {},
   "source": [
    "### `[ block_25 , None , block_25 , block_50 ]`"
   ]
  },
  {
   "cell_type": "code",
   "execution_count": 4,
   "id": "a306da53",
   "metadata": {},
   "outputs": [
    {
     "name": "stdout",
     "output_type": "stream",
     "text": [
      "11\n"
     ]
    },
    {
     "data": {
      "image/png": "[encoded data removed]",
      "text/plain": [
       "<Figure size 473.904x204.68 with 1 Axes>"
      ]
     },
     "metadata": {},
     "output_type": "display_data"
    },
    {
     "name": "stdout",
     "output_type": "stream",
     "text": [
      "{'00': 243, '10': 235, '11': 522}\n"
     ]
    }
   ],
   "source": [
    "q = QuantumRegister(2)\n",
    "c = ClassicalRegister(2)\n",
    "qc = QuantumCircuit(q, c)\n",
    "\n",
    "# apply first Hadamard\n",
    "qc.x(1)\n",
    "qc.h(0)\n",
    "qc.measure(q, c)\n",
    "\n",
    "# apply second Hadamard if the measurement outcome is 0\n",
    "qc.h(1).c_if(c, 2)\n",
    "qc.measure(q, c)\n",
    "\n",
    "result_state = list(execute(qc,Aer.get_backend('qasm_simulator'), shots=1).result().get_counts(qc).keys())[0]\n",
    "\n",
    "# for display purposes of this notebook\n",
    "print(result_state)\n",
    "display(qc.draw('mpl'))\n",
    "job = execute(qc,Aer.get_backend('qasm_simulator'), shots=1000)\n",
    "counts = job.result().get_counts(qc)   \n",
    "print(counts)\n",
    "# end for display purposes of this notebook"
   ]
  },
  {
   "cell_type": "markdown",
   "id": "71de7088",
   "metadata": {},
   "source": [
    "## Circuit for case: 25% - 25% - 25% - 25%"
   ]
  },
  {
   "cell_type": "code",
   "execution_count": 5,
   "id": "a138a5ea",
   "metadata": {},
   "outputs": [
    {
     "name": "stdout",
     "output_type": "stream",
     "text": [
      "11\n"
     ]
    },
    {
     "data": {
      "image/png": "[encoded data removed]",
      "text/plain": [
       "<Figure size 293.449x204.68 with 1 Axes>"
      ]
     },
     "metadata": {},
     "output_type": "display_data"
    },
    {
     "name": "stdout",
     "output_type": "stream",
     "text": [
      "{'10': 237, '00': 243, '01': 250, '11': 270}\n"
     ]
    }
   ],
   "source": [
    "q = QuantumRegister(2)\n",
    "c = ClassicalRegister(2)\n",
    "qc = QuantumCircuit(q, c)\n",
    "\n",
    "# apply Hadamards\n",
    "qc.h(0)\n",
    "qc.h(1)\n",
    "qc.measure(q, c)\n",
    "\n",
    "result_state = list(execute(qc,Aer.get_backend('qasm_simulator'), shots=1).result().get_counts(qc).keys())[0]\n",
    "\n",
    "# for display purposes of this notebook\n",
    "print(result_state)\n",
    "display(qc.draw('mpl'))\n",
    "job = execute(qc,Aer.get_backend('qasm_simulator'), shots=1000)\n",
    "counts = job.result().get_counts(qc)   \n",
    "print(counts)\n",
    "# end for display purposes of this notebook"
   ]
  },
  {
   "cell_type": "code",
   "execution_count": 6,
   "id": "f4cf7f80",
   "metadata": {},
   "outputs": [
    {
     "name": "stdout",
     "output_type": "stream",
     "text": [
      "0\n"
     ]
    }
   ],
   "source": [
    "arr = [\"hol\", None, \"bye\", \"otros\"]\n",
    "\n",
    "print(arr.index(\"hol\"))"
   ]
  },
  {
   "cell_type": "code",
   "execution_count": null,
   "id": "ddbd451b",
   "metadata": {},
   "outputs": [],
   "source": []
  }
 ],
 "metadata": {
  "kernelspec": {
   "display_name": "Python 3 (ipykernel)",
   "language": "python",
   "name": "python3"
  },
  "language_info": {
   "codemirror_mode": {
    "name": "ipython",
    "version": 3
   },
   "file_extension": ".py",
   "mimetype": "text/x-python",
   "name": "python",
   "nbconvert_exporter": "python",
   "pygments_lexer": "ipython3",
   "version": "3.9.6"
  }
 },
 "nbformat": 4,
 "nbformat_minor": 5
}
